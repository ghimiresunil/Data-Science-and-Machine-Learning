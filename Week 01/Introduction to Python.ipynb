{
 "cells": [
  {
   "cell_type": "markdown",
   "id": "f0b7a2cc",
   "metadata": {},
   "source": [
    "# Module 1: Introduction to Python"
   ]
  },
  {
   "cell_type": "markdown",
   "id": "c28f77ed",
   "metadata": {},
   "source": [
    "Python is a high-level programming language with extensive libraries available to perform various data analysis tasks. The following tutorial contains examples of using various data types, functions, and library modules available in the standard Python library. The notebook can be downloaded via from Google Classroom. Read the step-by-step instructions below carefully. To execute the code, click on each cell below and press the SHIFT-ENTER keys simultaneously."
   ]
  },
  {
   "cell_type": "markdown",
   "id": "c31b717b",
   "metadata": {},
   "source": [
    "We begin with some basic information about Python:\n",
    "\n",
    "1. Python is an interpreted language, unlike other high-level programming languages such as C or C++. You only need to submit your Python program to an interpreter for execution, without having to explicitly compile and link the code first.\n",
    "\n",
    "2. Python is a dynamically typed language, which means variable names are bound to their respective types during execution time. You do not have to explicitly declare the type of a variable before using it in the code unlike Java, C++, and other statically-typed languages.\n",
    "\n",
    "3. Instead of using braces '{' and '}', Python uses whitespace indentation to group together related statements in loops or other control-flow statements.\n",
    "\n",
    "4. Python uses the hash character ('#') to precede single-line comments. Triple-quoted strings (''') are commonly used to denote multi-line comments (even though it is not part of the standard Python language) or docstring of functions.\n",
    "\n",
    "5. Python uses pass by reference (instead of pass by value) when assigning a variable to another (e.g., a = b) or when passing an object as input argument to a function. Thus, any modification to the assigned variable or to the input argument within the function will affect the original object.\n",
    "\n",
    "6. Python uses None to denote a null object (e.g., a = None). You do not have to terminate each statement with a terminating character (such as a semicolon) unlike other languages.\n",
    "\n",
    "7. You may access the variables or functions defined in another Python program file using the import command. This is analogous to the import command in Java or the #include command in C or C++."
   ]
  },
  {
   "cell_type": "markdown",
   "id": "68ef398f",
   "metadata": {},
   "source": [
    "## 1.1. Elementary Data Types"
   ]
  },
  {
   "cell_type": "markdown",
   "id": "d7812306",
   "metadata": {},
   "source": [
    "The standard Python library provides support for various elementary data types, including including integers, booleans, floating points, and strings. A summary of the data types is shown in the table below."
   ]
  },
  {
   "cell_type": "markdown",
   "id": "d24636ee",
   "metadata": {},
   "source": [
    "| &nbsp;  |      Data Type    |   Example   | \n",
    "|:--------|:-----------------:|:------------|\n",
    "|Number   | Integer           | x = 4       |\n",
    "| &nbsp;  | Long integer      | x = 15L     | \n",
    "| &nbsp;  | Floating point    | x = 3.142   | \n",
    "| &nbsp;  | Boolean           | x = True    |\n",
    "|Text     | Character         | x = 'c'     |\n",
    "| &nbsp;  | String            | x = \"this\" or x = 'this' |"
   ]
  },
  {
   "cell_type": "code",
   "execution_count": 1,
   "id": "09348aa2",
   "metadata": {},
   "outputs": [
    {
     "name": "stdout",
     "output_type": "stream",
     "text": [
      "Type of x -> 4 <class 'int'>\n",
      "Type of y -> True <class 'bool'>\n",
      "Type of z -> 3.7 <class 'float'>\n",
      "Type of s -> This is a string <class 'str'>\n"
     ]
    }
   ],
   "source": [
    "x = 4              # integer\n",
    "print('Type of x -> {}'.format(x), type(x))\n",
    "\n",
    "y = True           # boolean (True, False)\n",
    "print('Type of y -> {}'.format(y), type(y))\n",
    "\n",
    "\n",
    "z = 3.7            # floating point\n",
    "print('Type of z -> {}'.format(z), type(z))\n",
    "\n",
    "s = \"This is a string\"    # string\n",
    "print('Type of s -> {}'.format(s), type(s))"
   ]
  },
  {
   "cell_type": "code",
   "execution_count": 2,
   "id": "2073694a",
   "metadata": {},
   "outputs": [
    {
     "name": "stdout",
     "output_type": "stream",
     "text": [
      "Interger Number        -> 18\n",
      "Addition               -> 8\n",
      "Multiplication         -> 12\n",
      "Assigning Variables x3 -> 6\n",
      "Assigning Variables x4 -> 18\n",
      "Modulo / Remainder     -> 2\n",
      "\n",
      "\n",
      "Floating Point Number  -> 3.7\n",
      "Substraction           -> 1.7000000000000002\n",
      "Division               -> 1.2333333333333334\n",
      "Integer Division       -> 1.0\n",
      "Squaring               -> 13.690000000000001\n",
      "\n",
      "\n",
      "Square Root            -> 3.7\n",
      "equivalent to square   -> 13.690000000000001\n",
      "Rounding Number        -> 4\n",
      "Type Casting           -> 4\n"
     ]
    }
   ],
   "source": [
    "x = 4            # integer\n",
    "x1 = x + 4       # addition \n",
    "x2 = x * 3       # multiplication\n",
    "x += 2           # equivalent to x = x + 2\n",
    "x3 = x       \n",
    "x *= 3           # equivalent to x = x * 3\n",
    "x4 = x      \n",
    "x5 = x % 4       # modulo (remainder) operator\n",
    "\n",
    "z = 3.7          # floating point number\n",
    "z1 = z - 2       # subtraction\n",
    "z2 = z / 3       # division\n",
    "z3 = z // 3      # integer division\n",
    "z4 = z ** 2      # square of z \n",
    "z5 = z4 ** 0.5   # square root\n",
    "z6 = pow(z,2)    # equivalent to square of z\n",
    "z7 = round(z)    # rounding z to its nearest integer \n",
    "z8 = int(z)      # type casting float to int\n",
    "\n",
    "print('Interger Number        ->', x)\n",
    "print('Addition               ->', x1)\n",
    "print('Multiplication         ->', x2)\n",
    "print('Assigning Variables x3 ->', x3)\n",
    "print('Assigning Variables x4 ->', x4)\n",
    "print('Modulo / Remainder     ->', x5)\n",
    "\n",
    "print('\\n')\n",
    "\n",
    "print('Floating Point Number  ->', z)\n",
    "print('Substraction           ->', z1)\n",
    "print('Division               ->', z2)\n",
    "print('Integer Division       ->', z3)\n",
    "print('Squaring               ->', z4)\n",
    "\n",
    "print('\\n')\n",
    "\n",
    "print('Square Root            ->', z5)\n",
    "print('equivalent to square   ->', z6)\n",
    "print('Rounding Number        ->', z7)\n",
    "print('Type Casting           ->', z7)"
   ]
  },
  {
   "cell_type": "markdown",
   "id": "b15133b4",
   "metadata": {},
   "source": [
    "The following are some of the functions provided by the math module for integers and floating point numbers"
   ]
  },
  {
   "cell_type": "code",
   "execution_count": 3,
   "id": "8a9c9cc0",
   "metadata": {},
   "outputs": [
    {
     "name": "stdout",
     "output_type": "stream",
     "text": [
      "Square Root       -> 2.0\n",
      "Power             -> 16.0\n",
      "Exponential       -> 54.598150033144236\n",
      "Logarithm         -> 2.0\n",
      "Absolute Value    -> 4.0\n",
      "Factorial         -> 24\n",
      "\n",
      "\n",
      "Ceiling value     -> 1\n",
      "Floor Function    -> 0\n",
      "Truncated Integer -> 0\n",
      "\n",
      "\n",
      "sine              -> 3.6739403974420594e-16\n",
      "Hyperbolic Tanh   -> 0.9999999869751758\n",
      "\n",
      "\n",
      "Not a Number      -> True\n",
      "Is infinity       -> True\n"
     ]
    }
   ],
   "source": [
    "import math\n",
    "\n",
    "x = 4\n",
    "print('Square Root       ->', math.sqrt(x))      # sqrt(4) = 2\n",
    "print('Power             ->', math.pow(x,2))     # 4**2 = 16\n",
    "print('Exponential       ->', math.exp(x))       # exp(4) = 54.6\n",
    "print('Logarithm         ->', math.log(x,2))     # log based 2  (default is natural logarithm)\n",
    "print('Absolute Value    ->', math.fabs(-4))     # absolute value\n",
    "print('Factorial         ->', math.factorial(x)) # 4! = 4 x 3 x 2 x 1 = 24\n",
    "\n",
    "print('\\n')\n",
    "\n",
    "z = 0.2\n",
    "print('Ceiling value     ->', math.ceil(z))      # ceiling function\n",
    "print('Floor Function    ->', math.floor(z))     # floor function\n",
    "print('Truncated Integer ->', math.trunc(z))     # truncate function\n",
    "\n",
    "print('\\n')\n",
    "\n",
    "z = 3*math.pi            # math.pi = 3.141592653589793 \n",
    "print('sine              ->', math.sin(z))       # sine function\n",
    "print('Hyperbolic Tanh   ->', math.tanh(z))      # arctan function\n",
    "\n",
    "print('\\n')\n",
    "\n",
    "x = math.nan             # not a number\n",
    "print('Not a Number      ->', math.isnan(x))\n",
    "\n",
    "x = math.inf             # infinity\n",
    "print('Is infinity       ->',math.isinf(x))"
   ]
  },
  {
   "cell_type": "markdown",
   "id": "3b5bee75",
   "metadata": {},
   "source": [
    "The following are some of the logical operations available for booleans"
   ]
  },
  {
   "cell_type": "code",
   "execution_count": 4,
   "id": "c625c39b",
   "metadata": {},
   "outputs": [
    {
     "name": "stdout",
     "output_type": "stream",
     "text": [
      "Print Logical And -> False\n",
      "Print Logical Or  -> True\n",
      "Logical NOT       -> True\n"
     ]
    }
   ],
   "source": [
    "y1 = True\n",
    "y2 = False\n",
    "\n",
    "print('Print Logical And ->', y1 and y2)       # logical AND\n",
    "print('Print Logical Or  ->', y1 or y2)        # logical OR\n",
    "print('Logical NOT       ->', y1 and not y2)   # logical NOT"
   ]
  },
  {
   "cell_type": "markdown",
   "id": "518e1b61",
   "metadata": {},
   "source": [
    "The following are some of the operations and functions for manipulating strings"
   ]
  },
  {
   "cell_type": "code",
   "execution_count": 5,
   "id": "f241e381",
   "metadata": {},
   "outputs": [
    {
     "name": "stdout",
     "output_type": "stream",
     "text": [
      "Print Last Three Characters -> his\n",
      "Length of String            -> 4\n",
      "Length of string is         -> 4\n",
      "Convert to upper case       -> THIS\n",
      "convert to Lower case       -> this\n",
      "Print string at 0th index   -> This\n",
      "Replace String              -> This is another string\n",
      "Replace String              -> That at a string\n",
      "Finding position            -> 8\n",
      "Is Substring                -> True\n",
      "Equality Comparison         -> True\n",
      "inequality Comparison       -> False\n",
      "concatenation               -> This is a string too\n",
      "replicate the string        -> This This This \n"
     ]
    }
   ],
   "source": [
    "s1 = \"This\"\n",
    "\n",
    "print('Print Last Three Characters ->', s1[1:]) # print last three characters \n",
    "print('Length of String            ->', len(s1)) # get the string length\n",
    "print('Length of string is         ->', str(len(s1))) # type casting int to str\n",
    "print('Convert to upper case       ->', s1.upper()) # convert to upper case\n",
    "print('convert to Lower case       ->', s1.lower()) # convert to lower case\n",
    "\n",
    "s2 = \"This is a string\"\n",
    "words = s2.split(' ')   # split the string into words\n",
    "print('Print string at 0th index   ->', words[0])\n",
    "print('Replace String              ->', s2.replace('a','another'))  # replace \"a\" with \"another\"\n",
    "print('Replace String              ->', s2.replace('is','at'))      # replace \"is\" with \"at\"\n",
    "print('Finding position            ->', s2.find(\"a\"))               # find the position of \"a\" in s2\n",
    "print('Is Substring                ->', s1 in s2)                   # check if s1 is a substring of s2,\n",
    "\n",
    "print('Equality Comparison         ->', s1 == 'This')               # equality comparison\n",
    "print('inequality Comparison       ->', s1 < 'That')                # inequality comparison\n",
    "print('concatenation               ->', s2 + \" too\")                # string concatenation\n",
    "print('replicate the string        ->', (s1 + \" \")* 3)              # replicate the string 3 times"
   ]
  },
  {
   "cell_type": "markdown",
   "id": "c7a7e0ad",
   "metadata": {},
   "source": [
    "## 1.2 Compound Data Types\n",
    "\n",
    "The following examples show how to create and manipulate a list object"
   ]
  },
  {
   "cell_type": "code",
   "execution_count": 6,
   "id": "5813fb2e",
   "metadata": {},
   "outputs": [
    {
     "name": "stdout",
     "output_type": "stream",
     "text": [
      "Print the element of list               -> [1, 3, 5, 7, 9]\n",
      "Print type of variable \"intlist\"        -> <class 'list'>\n",
      "range[startvalue, endvalue, stepsize]   -> [0, 2, 4, 6, 8]\n",
      "Indexing to get the 3rd element of list -> 5\n",
      "Slicing to get first two elements       -> [1, 3]\n",
      "Slicing to get first three elements     -> [5, 7, 9]\n",
      "Total number of element present         -> 5\n",
      "Sum all element present in the list     -> 25\n",
      "insert 11 to end of the list            -> [1, 3, 5, 7, 9, 11]\n",
      "11\n",
      "remove last element of the list         -> [1, 3, 5, 7, 9]\n",
      "List concatenation                      -> [1, 3, 5, 7, 9, 11, 13, 15]\n",
      "replicate the list                      -> [1, 3, 5, 7, 9, 1, 3, 5, 7, 9, 1, 3, 5, 7, 9]\n",
      "insert item 4 at index 2                -> [1, 3, 4, 5, 7, 9]\n",
      "Sorting elements                        -> [9, 7, 5, 4, 3, 1]\n"
     ]
    }
   ],
   "source": [
    "intlist = [1, 3, 5, 7, 9]\n",
    "print('Print the element of list               ->', intlist)\n",
    "print('Print type of variable \"intlist\"        ->', type(intlist))\n",
    "intlist2 = list(range(0,10,2))                                    # range[startvalue, endvalue, stepsize]\n",
    "print('range[startvalue, endvalue, stepsize]   ->', intlist2)\n",
    "\n",
    "print('Indexing to get the 3rd element of list ->', intlist[2])   # get the third element of the list\n",
    "print('Slicing to get first two elements       ->', intlist[:2])  # get the first two elements\n",
    "print('Slicing to get first three elements     ->', intlist[2:])  # get the last three elements of the list\n",
    "print('Total number of element present         ->', len(intlist)) # get the number of elements in the list\n",
    "print('Sum all element present in the list     ->', sum(intlist)) # sums up elements of the list\n",
    "\n",
    "intlist.append(11)                                                # insert 11 to end of the list\n",
    "print('insert 11 to end of the list            ->', intlist)\n",
    "print(intlist.pop())                                              # remove last element of the list\n",
    "print('remove last element of the list         ->', intlist)\n",
    "print('List concatenation                      ->', intlist + [11,13,15]) # concatenate two lists\n",
    "print('replicate the list                      ->', intlist * 3)          # replicate the list\n",
    "intlist.insert(2,4)                                                       # insert item 4 at index 2  \n",
    "print('insert item 4 at index 2                ->', intlist)\n",
    "intlist.sort(reverse=True)                                                # sort elements in descending order\n",
    "print('Sorting elements                        ->', intlist)"
   ]
  },
  {
   "cell_type": "code",
   "execution_count": 7,
   "id": "d88b0e28",
   "metadata": {},
   "outputs": [
    {
     "name": "stdout",
     "output_type": "stream",
     "text": [
      "Print the string of list                -> ['this', 'is', 'a', 'list']\n",
      "Print type of variable \"mylist\"         -> <class 'list'>\n",
      "check whether \"list\" is in mylist       -> True\n",
      "Indexing to get the 3rd element of list -> a\n",
      "Show the first two elements of the list -> ['this', 'is']\n",
      "show the last two elements of the list  -> ['a', 'list']\n",
      "insert element to end of the list       -> ['this', 'is', 'a', 'list', 'too']\n",
      "Merge list into a string                -> this is a list too\n",
      "Show after removing \"is\" from the list  -> ['this', 'a', 'list', 'too']\n"
     ]
    }
   ],
   "source": [
    "mylist = ['this', 'is', 'a', 'list']\n",
    "print('Print the string of list                ->', mylist)\n",
    "print('Print type of variable \"mylist\"         ->', type(mylist))\n",
    "\n",
    "print('check whether \"list\" is in mylist       ->', \"list\" in mylist) # check whether \"list\" is in mylist\n",
    "print('Indexing to get the 3rd element of list ->', mylist[2])       # show the 3rd element of the list\n",
    "print('Show the first two elements of the list ->', mylist[:2])      # show the first two elements of the list\n",
    "print('show the last two elements of the list  ->', mylist[2:])      # show the last two elements of the list\n",
    "mylist.append(\"too\")             # insert element to end of the list\n",
    "print('insert element to end of the list       ->', mylist)\n",
    "separator = \" \"\n",
    "print('Merge list into a string                ->', separator.join(mylist)) # merge elements of list into a string\n",
    "\n",
    "mylist.remove(\"is\")              # remove element from list\n",
    "print('Show after removing \"is\" from the list  ->', mylist)"
   ]
  },
  {
   "cell_type": "markdown",
   "id": "2cf33b72",
   "metadata": {},
   "source": [
    "The following examples show how to create and manipulate a dictionary object"
   ]
  },
  {
   "cell_type": "code",
   "execution_count": 8,
   "id": "c4830f25",
   "metadata": {},
   "outputs": [
    {
     "name": "stdout",
     "output_type": "stream",
     "text": [
      "Adding element to empty dictionary -> {'MI': 'Michigan', 'MN': 'Minnesota', 'TX': 'Texas', 'CA': 'California'}\n",
      "keys of the dictionary             -> dict_keys(['MI', 'MN', 'TX', 'CA'])\n",
      "Values of the string               -> dict_values(['Michigan', 'Minnesota', 'Texas', 'California'])\n",
      "Total number of key-value pairs    -> 4\n",
      " Returns the value of the item with the specified key -> Michigan\n",
      "check whether \"FL\" key is in abbrev                   -> False\n",
      "check whether \"CA\" key is in abbrev                   -> True\n",
      "New dictionary after merged   -> {'apples': 3, 'oranges': 4, 'bananas': 2, 'cherries': 10}\n",
      "Sorting                       -> ['apples', 'bananas', 'cherries', 'oranges']\n",
      "sort by key of dictionary     -> [('apples', 3), ('bananas', 2), ('cherries', 10), ('oranges', 4)]\n",
      "sort by value of dictionary   -> [('bananas', 2), ('apples', 3), ('oranges', 4), ('cherries', 10)]\n"
     ]
    }
   ],
   "source": [
    "abbrev = {}\n",
    "abbrev['MI'] = \"Michigan\"\n",
    "abbrev['MN'] = \"Minnesota\"\n",
    "abbrev['TX'] = \"Texas\"\n",
    "abbrev['CA'] = \"California\"\n",
    "\n",
    "print('Adding element to empty dictionary ->', abbrev)\n",
    "print('keys of the dictionary             ->', abbrev.keys()) # get the keys of the dictionary\n",
    "print('Values of the string               ->', abbrev.values())# get the values of the dictionary\n",
    "print('Total number of key-value pairs    ->', len(abbrev))              # get number of key-value pairs\n",
    "\n",
    "print(' Returns the value of the item with the specified key ->', abbrev.get('MI'))\n",
    "print('check whether \"FL\" key is in abbrev                   ->', \"FL\" in abbrev)\n",
    "print('check whether \"CA\" key is in abbrev                   ->', \"CA\" in abbrev)\n",
    "\n",
    "keys = ['apples', 'oranges', 'bananas', 'cherries']\n",
    "values = [3, 4, 2, 10]\n",
    "fruits = dict(zip(keys, values)) # merge  key and value\n",
    "print('New dictionary after merged   ->', fruits)\n",
    "print('Sorting                       ->', sorted(fruits)) # sort keys of dictionary\n",
    "\n",
    "from operator import itemgetter\n",
    "print('sort by key of dictionary     ->', sorted(fruits.items(), key=itemgetter(0))) # sort by key of dictionary\n",
    "print('sort by value of dictionary   ->', sorted(fruits.items(), key=itemgetter(1)))    # sort by value of dictionary"
   ]
  },
  {
   "cell_type": "markdown",
   "id": "dc171050",
   "metadata": {},
   "source": [
    "The following examples show how to create and manipulate a tuple object. Unlike a list, a tuple object is immutable, i.e., they cannot be modified after creation."
   ]
  },
  {
   "cell_type": "code",
   "execution_count": 9,
   "id": "be388985",
   "metadata": {},
   "outputs": [
    {
     "name": "stdout",
     "output_type": "stream",
     "text": [
      "('MI', 'Michigan', 'Lansing')\n",
      "('Michigan', 'Lansing')\n",
      "[('MI', 'Michigan', 'Lansing'), ('CA', 'California', 'Sacramento'), ('TX', 'Texas', 'Austin')]\n",
      "('TX', 'Texas', 'Austin')\n",
      "('TX', 'Texas', 'Austin')\n",
      "('Texas', 'Austin')\n",
      "[('TX', 'Texas', 'Austin'), ('MI', 'Michigan', 'Lansing'), ('CA', 'California', 'Sacramento')]\n"
     ]
    }
   ],
   "source": [
    "MItuple = ('MI', 'Michigan', 'Lansing')\n",
    "CAtuple = ('CA', 'California', 'Sacramento')\n",
    "TXtuple = ('TX', 'Texas', 'Austin')\n",
    "\n",
    "print(MItuple)\n",
    "print(MItuple[1:])\n",
    "\n",
    "states = [MItuple, CAtuple, TXtuple]    # this will create a list of tuples\n",
    "print(states)\n",
    "print(states[2])\n",
    "print(states[2][:])\n",
    "print(states[2][1:])\n",
    "\n",
    "states.sort(key=lambda state: state[2])  # sort the states by their capital cities\n",
    "print(states)"
   ]
  },
  {
   "cell_type": "markdown",
   "id": "436e70ba",
   "metadata": {},
   "source": [
    "## 1.3 Control Flow Statements\n",
    "\n",
    "Similar to other programming languages, the control flow statements in Python include if, for, and while statements. Examples on how to use these statements are shown below. "
   ]
  },
  {
   "cell_type": "code",
   "execution_count": 10,
   "id": "6e8575c1",
   "metadata": {},
   "outputs": [
    {
     "name": "stdout",
     "output_type": "stream",
     "text": [
      "x = 10 is even\n",
      "x = 10 is positive\n"
     ]
    }
   ],
   "source": [
    "# using if-else statement\n",
    "\n",
    "x = 10\n",
    "\n",
    "if x % 2 == 0:\n",
    "    print(\"x =\", x, \"is even\")\n",
    "else:\n",
    "    print(\"x =\", x, \"is odd\")\n",
    "\n",
    "if x > 0:\n",
    "    print(\"x =\", x, \"is positive\")\n",
    "elif x < 0:\n",
    "    print(\"x =\", x, \"is negative\")\n",
    "else:\n",
    "    print(\"x =\", x, \"is neither positive nor negative\")"
   ]
  },
  {
   "cell_type": "code",
   "execution_count": 11,
   "id": "3b9a02f5",
   "metadata": {},
   "outputs": [
    {
     "name": "stdout",
     "output_type": "stream",
     "text": [
      "that\n",
      "at\n",
      "a\n",
      "latt\n",
      "\n",
      "using for loop with a list         ->  [4, 2, 1, 4]\n",
      "using for loop with list of tuples -> ['Austin', 'Lansing', 'Sacramento']\n",
      "using for loop with dictionary     -> ['apples', 'oranges', 'bananas', 'cherries']\n"
     ]
    }
   ],
   "source": [
    "# using for loop with a list\n",
    "\n",
    "mylist = ['this', 'is', 'a', 'list']\n",
    "for word in mylist:\n",
    "    print(word.replace(\"is\", \"at\"))\n",
    "    \n",
    "mylist2 = [len(word) for word in mylist]   # number of characters in each word\n",
    "print('\\nusing for loop with a list         -> ', mylist2)\n",
    "\n",
    "# using for loop with list of tuples\n",
    "\n",
    "states = [('MI', 'Michigan', 'Lansing'),('CA', 'California', 'Sacramento'),\n",
    "          ('TX', 'Texas', 'Austin')]\n",
    "\n",
    "sorted_capitals = [state[2] for state in states]\n",
    "sorted_capitals.sort()\n",
    "print('using for loop with list of tuples ->', sorted_capitals)\n",
    "\n",
    "# using for loop with dictionary\n",
    "\n",
    "fruits = {'apples': 3, 'oranges': 4, 'bananas': 2, 'cherries': 10}\n",
    "fruitnames = [k for (k,v) in fruits.items()]\n",
    "print('using for loop with dictionary     ->', fruitnames)"
   ]
  },
  {
   "cell_type": "code",
   "execution_count": 12,
   "id": "6093be8b",
   "metadata": {},
   "outputs": [
    {
     "name": "stdout",
     "output_type": "stream",
     "text": [
      "[-10, -9, -8, -7, -6, -5, -4, -3, -2, -1, 0, 1, 2, 3, 4, 5, 6, 7, 8, 9]\n",
      "First non-negative number: 0\n"
     ]
    }
   ],
   "source": [
    "# using while loop\n",
    "\n",
    "mylist = list(range(-10,10))\n",
    "print(mylist)\n",
    "\n",
    "i = 0\n",
    "while (mylist[i] < 0):\n",
    "    i = i + 1\n",
    "    \n",
    "print(\"First non-negative number:\", mylist[i])"
   ]
  },
  {
   "cell_type": "markdown",
   "id": "c25321b8",
   "metadata": {},
   "source": [
    "## 1.4 User-Defined Functions\n",
    "\n",
    "You can create your own functions in Python, which can be named or unnamed. Unnamed functions are defined using the lambda keyword as shown in the previous example for sorting a list of tuples. "
   ]
  },
  {
   "cell_type": "code",
   "execution_count": 13,
   "id": "35258580",
   "metadata": {},
   "outputs": [
    {
     "name": "stdout",
     "output_type": "stream",
     "text": [
      "11\n"
     ]
    }
   ],
   "source": [
    "myfunc = lambda x: 3*x**2 - 2*x + 3      # example of an unnamed quadratic function\n",
    "\n",
    "print(myfunc(2))"
   ]
  },
  {
   "cell_type": "code",
   "execution_count": 14,
   "id": "fc8be578",
   "metadata": {},
   "outputs": [
    {
     "name": "stdout",
     "output_type": "stream",
     "text": [
      "[-11, 12, 23, 45, 71]\n"
     ]
    }
   ],
   "source": [
    "import math\n",
    "\n",
    "# The following function will discard missing values from a list\n",
    "def discard(inlist, sortFlag=False):    # default value for sortFlag is False \n",
    "    outlist = []\n",
    "    for item in inlist:\n",
    "        if not math.isnan(item):\n",
    "            outlist.append(item)\n",
    "            \n",
    "    if sortFlag:\n",
    "        outlist.sort()\n",
    "    return outlist\n",
    "\n",
    "mylist = [12, math.nan, 23, -11, 45, math.nan, 71]\n",
    "\n",
    "print(discard(mylist,True))    "
   ]
  },
  {
   "cell_type": "markdown",
   "id": "460a481f",
   "metadata": {},
   "source": [
    "## 1.5 File I/O\n",
    "\n",
    "You can read and write data from a list or other objects to a file."
   ]
  },
  {
   "cell_type": "code",
   "execution_count": 15,
   "id": "2d082c08",
   "metadata": {},
   "outputs": [
    {
     "name": "stdout",
     "output_type": "stream",
     "text": [
      "State= Michigan ( MI ) Capital: Lansing\n",
      "\n",
      "State= California ( CA ) Capital: Sacramento\n",
      "\n",
      "State= Texas ( TX ) Capital: Austin\n",
      "\n",
      "State= Minnesota ( MN ) Capital: St Paul\n"
     ]
    }
   ],
   "source": [
    "states = [('MI', 'Michigan', 'Lansing'),('CA', 'California', 'Sacramento'),\n",
    "          ('TX', 'Texas', 'Austin'), ('MN', 'Minnesota', 'St Paul')]\n",
    "\n",
    "with open('states.txt', 'w') as f:\n",
    "    f.write('\\n'.join('%s,%s,%s' % state for state in states))\n",
    "    \n",
    "with open('states.txt', 'r') as f:\n",
    "    for line in f:\n",
    "        fields = line.split(sep=',')    # split each line into its respective fields\n",
    "        print('State=',fields[1],'(',fields[0],')','Capital:', fields[2])"
   ]
  }
 ],
 "metadata": {
  "kernelspec": {
   "display_name": "Python 3",
   "language": "python",
   "name": "python3"
  },
  "language_info": {
   "codemirror_mode": {
    "name": "ipython",
    "version": 3
   },
   "file_extension": ".py",
   "mimetype": "text/x-python",
   "name": "python",
   "nbconvert_exporter": "python",
   "pygments_lexer": "ipython3",
   "version": "3.8.8"
  }
 },
 "nbformat": 4,
 "nbformat_minor": 5
}
