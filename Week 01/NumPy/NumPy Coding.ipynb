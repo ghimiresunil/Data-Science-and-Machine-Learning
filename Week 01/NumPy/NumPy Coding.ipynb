{
 "cells": [
  {
   "cell_type": "markdown",
   "id": "0a362c86",
   "metadata": {},
   "source": [
    "# Import Library"
   ]
  },
  {
   "cell_type": "code",
   "execution_count": 1,
   "id": "21e1069a",
   "metadata": {},
   "outputs": [],
   "source": [
    "import numpy as np"
   ]
  },
  {
   "cell_type": "markdown",
   "id": "3ce2f105",
   "metadata": {},
   "source": [
    "## One dimensional Array "
   ]
  },
  {
   "cell_type": "code",
   "execution_count": 2,
   "id": "def78fb3",
   "metadata": {},
   "outputs": [],
   "source": [
    "array_01 = np.array([1, 2, 3])"
   ]
  },
  {
   "cell_type": "markdown",
   "id": "bb712978",
   "metadata": {},
   "source": [
    "## Dimensional of Array "
   ]
  },
  {
   "cell_type": "code",
   "execution_count": 3,
   "id": "b63f69c0",
   "metadata": {},
   "outputs": [
    {
     "data": {
      "text/plain": [
       "1"
      ]
     },
     "execution_count": 3,
     "metadata": {},
     "output_type": "execute_result"
    }
   ],
   "source": [
    "array_01.ndim"
   ]
  },
  {
   "cell_type": "markdown",
   "id": "e149b372",
   "metadata": {},
   "source": [
    "## Shape of Array "
   ]
  },
  {
   "cell_type": "code",
   "execution_count": 4,
   "id": "56d42890",
   "metadata": {},
   "outputs": [
    {
     "data": {
      "text/plain": [
       "(3,)"
      ]
     },
     "execution_count": 4,
     "metadata": {},
     "output_type": "execute_result"
    }
   ],
   "source": [
    "array_01.shape"
   ]
  },
  {
   "cell_type": "markdown",
   "id": "faa9c2cc",
   "metadata": {},
   "source": [
    "## Two Dimensional Array "
   ]
  },
  {
   "cell_type": "code",
   "execution_count": 5,
   "id": "9d517fad",
   "metadata": {},
   "outputs": [],
   "source": [
    "array_02 = np.array([[1, 2, 3]])"
   ]
  },
  {
   "cell_type": "code",
   "execution_count": 6,
   "id": "7e9c188b",
   "metadata": {},
   "outputs": [
    {
     "data": {
      "text/plain": [
       "array([[1, 2, 3]])"
      ]
     },
     "execution_count": 6,
     "metadata": {},
     "output_type": "execute_result"
    }
   ],
   "source": [
    "array_02"
   ]
  },
  {
   "cell_type": "code",
   "execution_count": 7,
   "id": "b54d8e0c",
   "metadata": {},
   "outputs": [
    {
     "data": {
      "text/plain": [
       "2"
      ]
     },
     "execution_count": 7,
     "metadata": {},
     "output_type": "execute_result"
    }
   ],
   "source": [
    "array_02.ndim"
   ]
  },
  {
   "cell_type": "code",
   "execution_count": 8,
   "id": "74b8352f",
   "metadata": {},
   "outputs": [
    {
     "data": {
      "text/plain": [
       "(1, 3)"
      ]
     },
     "execution_count": 8,
     "metadata": {},
     "output_type": "execute_result"
    }
   ],
   "source": [
    "array_02.shape"
   ]
  },
  {
   "cell_type": "markdown",
   "id": "da70d493",
   "metadata": {},
   "source": [
    "## Three Dimensional Array "
   ]
  },
  {
   "cell_type": "code",
   "execution_count": 9,
   "id": "9a920ede",
   "metadata": {},
   "outputs": [],
   "source": [
    "array_03  = np.array([ [ [1], [2], [3] ] ])"
   ]
  },
  {
   "cell_type": "code",
   "execution_count": 10,
   "id": "3ce2ff5f",
   "metadata": {},
   "outputs": [
    {
     "data": {
      "text/plain": [
       "3"
      ]
     },
     "execution_count": 10,
     "metadata": {},
     "output_type": "execute_result"
    }
   ],
   "source": [
    "array_03.ndim"
   ]
  },
  {
   "cell_type": "code",
   "execution_count": 11,
   "id": "e178aded",
   "metadata": {},
   "outputs": [
    {
     "data": {
      "text/plain": [
       "(1, 3, 1)"
      ]
     },
     "execution_count": 11,
     "metadata": {},
     "output_type": "execute_result"
    }
   ],
   "source": [
    "array_03.shape"
   ]
  },
  {
   "cell_type": "code",
   "execution_count": 12,
   "id": "8a3f70bd",
   "metadata": {},
   "outputs": [
    {
     "data": {
      "text/plain": [
       "array([[[1],\n",
       "        [2],\n",
       "        [3]]])"
      ]
     },
     "execution_count": 12,
     "metadata": {},
     "output_type": "execute_result"
    }
   ],
   "source": [
    "array_03"
   ]
  },
  {
   "cell_type": "markdown",
   "id": "f55d721b",
   "metadata": {},
   "source": [
    "## Array Multiplication "
   ]
  },
  {
   "cell_type": "code",
   "execution_count": 13,
   "id": "b66329ac",
   "metadata": {},
   "outputs": [],
   "source": [
    "arr_01 = np.array([[1,2], [3, 4]])\n",
    "arr_02 = np.array([ [5, 6], [7, 8]])"
   ]
  },
  {
   "cell_type": "code",
   "execution_count": 14,
   "id": "11c4b557",
   "metadata": {},
   "outputs": [],
   "source": [
    "multiply = arr_01 @ arr_02"
   ]
  },
  {
   "cell_type": "code",
   "execution_count": 15,
   "id": "6e340170",
   "metadata": {},
   "outputs": [
    {
     "data": {
      "text/plain": [
       "array([[19, 22],\n",
       "       [43, 50]])"
      ]
     },
     "execution_count": 15,
     "metadata": {},
     "output_type": "execute_result"
    }
   ],
   "source": [
    "multiply"
   ]
  },
  {
   "cell_type": "code",
   "execution_count": 16,
   "id": "6f829e84",
   "metadata": {},
   "outputs": [
    {
     "data": {
      "text/plain": [
       "array([[19, 22],\n",
       "       [43, 50]])"
      ]
     },
     "execution_count": 16,
     "metadata": {},
     "output_type": "execute_result"
    }
   ],
   "source": [
    "np.dot(arr_01, arr_02)"
   ]
  },
  {
   "cell_type": "markdown",
   "id": "506a7ada",
   "metadata": {},
   "source": [
    "## Element Wise Multiplication "
   ]
  },
  {
   "cell_type": "code",
   "execution_count": 17,
   "id": "b9177e5f",
   "metadata": {},
   "outputs": [],
   "source": [
    "arr_03 = np.array([[1,2], [3, 4]])\n",
    "arr_04 = np.array([ [5, 6], [7, 8]])"
   ]
  },
  {
   "cell_type": "code",
   "execution_count": 18,
   "id": "746a0d91",
   "metadata": {},
   "outputs": [
    {
     "data": {
      "text/plain": [
       "array([[ 5, 12],\n",
       "       [21, 32]])"
      ]
     },
     "execution_count": 18,
     "metadata": {},
     "output_type": "execute_result"
    }
   ],
   "source": [
    "ele_multiply = arr_03 * arr_04\n",
    "ele_multiply"
   ]
  },
  {
   "cell_type": "code",
   "execution_count": 19,
   "id": "8aa8ac36",
   "metadata": {},
   "outputs": [
    {
     "data": {
      "text/plain": [
       "array([[ 5, 12],\n",
       "       [21, 32]])"
      ]
     },
     "execution_count": 19,
     "metadata": {},
     "output_type": "execute_result"
    }
   ],
   "source": [
    "np.multiply(arr_03, arr_04)"
   ]
  },
  {
   "cell_type": "markdown",
   "id": "c2f63957",
   "metadata": {},
   "source": [
    "## Addition and Substraction "
   ]
  },
  {
   "cell_type": "code",
   "execution_count": 20,
   "id": "2ea6eee2",
   "metadata": {},
   "outputs": [],
   "source": [
    "arr_05 = np.array([[1,2], [3, 4]])\n",
    "arr_06 = np.array([[5,6], [7, 8]])"
   ]
  },
  {
   "cell_type": "code",
   "execution_count": 21,
   "id": "00fcbf81",
   "metadata": {},
   "outputs": [
    {
     "data": {
      "text/plain": [
       "array([[ 6,  8],\n",
       "       [10, 12]])"
      ]
     },
     "execution_count": 21,
     "metadata": {},
     "output_type": "execute_result"
    }
   ],
   "source": [
    "add_arr = arr_05 + arr_06\n",
    "add_arr"
   ]
  },
  {
   "cell_type": "code",
   "execution_count": 22,
   "id": "1a1db6de",
   "metadata": {},
   "outputs": [
    {
     "data": {
      "text/plain": [
       "array([[ 6,  8],\n",
       "       [10, 12]])"
      ]
     },
     "execution_count": 22,
     "metadata": {},
     "output_type": "execute_result"
    }
   ],
   "source": [
    "np.add(arr_05, arr_06)"
   ]
  },
  {
   "cell_type": "code",
   "execution_count": 23,
   "id": "68315398",
   "metadata": {},
   "outputs": [
    {
     "data": {
      "text/plain": [
       "10"
      ]
     },
     "execution_count": 23,
     "metadata": {},
     "output_type": "execute_result"
    }
   ],
   "source": [
    "overal_ele = np.sum(arr_05)\n",
    "overal_ele"
   ]
  },
  {
   "cell_type": "code",
   "execution_count": 24,
   "id": "1cbc9a92",
   "metadata": {},
   "outputs": [
    {
     "data": {
      "text/plain": [
       "array([[-4, -4],\n",
       "       [-4, -4]])"
      ]
     },
     "execution_count": 24,
     "metadata": {},
     "output_type": "execute_result"
    }
   ],
   "source": [
    "sub_arr = arr_05 - arr_06\n",
    "sub_arr"
   ]
  },
  {
   "cell_type": "code",
   "execution_count": 25,
   "id": "8980586c",
   "metadata": {},
   "outputs": [
    {
     "data": {
      "text/plain": [
       "array([[-4, -4],\n",
       "       [-4, -4]])"
      ]
     },
     "execution_count": 25,
     "metadata": {},
     "output_type": "execute_result"
    }
   ],
   "source": [
    "np.subtract(arr_05, arr_06)"
   ]
  },
  {
   "cell_type": "code",
   "execution_count": 26,
   "id": "3baeb9ad",
   "metadata": {},
   "outputs": [],
   "source": [
    "## Divide "
   ]
  },
  {
   "cell_type": "code",
   "execution_count": 27,
   "id": "41be2c4f",
   "metadata": {},
   "outputs": [],
   "source": [
    "arr_07 = np.array([4, 6, 8])\n",
    "div_arr = np.divide(arr_07, 2)"
   ]
  },
  {
   "cell_type": "code",
   "execution_count": 28,
   "id": "c7575497",
   "metadata": {},
   "outputs": [
    {
     "data": {
      "text/plain": [
       "array([2., 3., 4.])"
      ]
     },
     "execution_count": 28,
     "metadata": {},
     "output_type": "execute_result"
    }
   ],
   "source": [
    "div_arr"
   ]
  },
  {
   "cell_type": "code",
   "execution_count": 29,
   "id": "60c8cb8b",
   "metadata": {},
   "outputs": [
    {
     "data": {
      "text/plain": [
       "array([2, 3, 4])"
      ]
     },
     "execution_count": 29,
     "metadata": {},
     "output_type": "execute_result"
    }
   ],
   "source": [
    "div_arr = np.floor_divide(arr_07, 2)\n",
    "div_arr\n"
   ]
  },
  {
   "cell_type": "markdown",
   "id": "acf8fcd4",
   "metadata": {},
   "source": [
    "## Broadcasting "
   ]
  },
  {
   "cell_type": "code",
   "execution_count": 30,
   "id": "55a92349",
   "metadata": {},
   "outputs": [],
   "source": [
    "new_arr = np.array([[3, 4 ], [5, 7]])"
   ]
  },
  {
   "cell_type": "code",
   "execution_count": 31,
   "id": "7fec8037",
   "metadata": {},
   "outputs": [
    {
     "data": {
      "text/plain": [
       "array([[ 6,  7],\n",
       "       [ 8, 10]])"
      ]
     },
     "execution_count": 31,
     "metadata": {},
     "output_type": "execute_result"
    }
   ],
   "source": [
    "new_arr + 3"
   ]
  },
  {
   "cell_type": "code",
   "execution_count": 32,
   "id": "4999eeae",
   "metadata": {},
   "outputs": [],
   "source": [
    "new_arr_01 = np.array([[1, 2, 3], [3, 4, 5]])"
   ]
  },
  {
   "cell_type": "code",
   "execution_count": 33,
   "id": "e587f6dc",
   "metadata": {},
   "outputs": [
    {
     "data": {
      "text/plain": [
       "array([[ 5,  7,  9],\n",
       "       [ 7,  9, 11]])"
      ]
     },
     "execution_count": 33,
     "metadata": {},
     "output_type": "execute_result"
    }
   ],
   "source": [
    "new_arr_01 + np.array([4, 5, 6])"
   ]
  },
  {
   "cell_type": "markdown",
   "id": "81a5d91e",
   "metadata": {},
   "source": [
    "## Uniform and Normal Distribution"
   ]
  },
  {
   "cell_type": "code",
   "execution_count": 34,
   "id": "7465162f",
   "metadata": {},
   "outputs": [
    {
     "data": {
      "text/plain": [
       "array([[-0.24934813, -1.27005999,  0.74580076, -1.55337484],\n",
       "       [-0.0593643 , -0.98058084, -1.70908468,  0.07107103],\n",
       "       [-0.81989625,  0.29009002, -0.64405941, -0.48517067]])"
      ]
     },
     "execution_count": 34,
     "metadata": {},
     "output_type": "execute_result"
    }
   ],
   "source": [
    "normal_distribution = np.random.standard_normal((3, 4))\n",
    "normal_distribution"
   ]
  },
  {
   "cell_type": "code",
   "execution_count": 35,
   "id": "3967fe85",
   "metadata": {},
   "outputs": [
    {
     "name": "stderr",
     "output_type": "stream",
     "text": [
      "/home/linus/.local/lib/python3.8/site-packages/seaborn/distributions.py:2557: FutureWarning: `distplot` is a deprecated function and will be removed in a future version. Please adapt your code to use either `displot` (a figure-level function with similar flexibility) or `histplot` (an axes-level function for histograms).\n",
      "  warnings.warn(msg, FutureWarning)\n"
     ]
    },
    {
     "data": {
      "text/plain": [
       "<AxesSubplot:ylabel='Density'>"
      ]
     },
     "execution_count": 35,
     "metadata": {},
     "output_type": "execute_result"
    },
    {
     "data": {
      "image/png": "[encoded data removed]",
      "text/plain": [
       "<Figure size 432x288 with 1 Axes>"
      ]
     },
     "metadata": {
      "needs_background": "light"
     },
     "output_type": "display_data"
    }
   ],
   "source": [
    "import seaborn as sns \n",
    "sns.distplot(normal_distribution)"
   ]
  },
  {
   "cell_type": "code",
   "execution_count": 36,
   "id": "f8525b50",
   "metadata": {},
   "outputs": [
    {
     "data": {
      "text/plain": [
       "array([[1.53515039, 1.10085294, 1.95563821, 1.46009253],\n",
       "       [1.05154783, 1.99898461, 1.79961853, 1.74382498],\n",
       "       [1.29044444, 1.03813361, 1.71180207, 1.78916308]])"
      ]
     },
     "execution_count": 36,
     "metadata": {},
     "output_type": "execute_result"
    }
   ],
   "source": [
    "uniform_distribution = np.random.uniform(1, 2, (3, 4))\n",
    "uniform_distribution"
   ]
  },
  {
   "cell_type": "code",
   "execution_count": 37,
   "id": "0ece10f8",
   "metadata": {},
   "outputs": [
    {
     "name": "stderr",
     "output_type": "stream",
     "text": [
      "/home/linus/.local/lib/python3.8/site-packages/seaborn/distributions.py:2557: FutureWarning: `distplot` is a deprecated function and will be removed in a future version. Please adapt your code to use either `displot` (a figure-level function with similar flexibility) or `histplot` (an axes-level function for histograms).\n",
      "  warnings.warn(msg, FutureWarning)\n"
     ]
    },
    {
     "data": {
      "text/plain": [
       "<AxesSubplot:ylabel='Density'>"
      ]
     },
     "execution_count": 37,
     "metadata": {},
     "output_type": "execute_result"
    },
    {
     "data": {
      "image/png": "[encoded data removed]",
      "text/plain": [
       "<Figure size 432x288 with 1 Axes>"
      ]
     },
     "metadata": {
      "needs_background": "light"
     },
     "output_type": "display_data"
    }
   ],
   "source": [
    "sns.distplot(uniform_distribution)"
   ]
  },
  {
   "cell_type": "markdown",
   "id": "2b8f2b9d",
   "metadata": {},
   "source": [
    "## Generate Random Float Number"
   ]
  },
  {
   "cell_type": "code",
   "execution_count": 38,
   "id": "35282583",
   "metadata": {},
   "outputs": [
    {
     "data": {
      "text/plain": [
       "array([[0.49261051, 0.46700324, 0.18956449, 0.73797511, 0.65467955],\n",
       "       [0.94803501, 0.49125718, 0.71987066, 0.1503897 , 0.17228822]])"
      ]
     },
     "execution_count": 38,
     "metadata": {},
     "output_type": "execute_result"
    }
   ],
   "source": [
    "float_number = np.random.rand(2,5)\n",
    "float_number"
   ]
  },
  {
   "cell_type": "markdown",
   "id": "a540c7e7",
   "metadata": {},
   "source": [
    "## Generate Random Integer Number "
   ]
  },
  {
   "cell_type": "code",
   "execution_count": 39,
   "id": "62e68570",
   "metadata": {},
   "outputs": [
    {
     "data": {
      "text/plain": [
       "array([[41, 49, 22, 35, 20],\n",
       "       [15, 26,  2, 31, 10]])"
      ]
     },
     "execution_count": 39,
     "metadata": {},
     "output_type": "execute_result"
    }
   ],
   "source": [
    "integer_nummber  = np.random.randint(1, 50, (2, 5))\n",
    "integer_nummber"
   ]
  },
  {
   "cell_type": "markdown",
   "id": "d8ea7c25",
   "metadata": {},
   "source": [
    "## Generate 0's Array"
   ]
  },
  {
   "cell_type": "code",
   "execution_count": 40,
   "id": "b6b03673",
   "metadata": {},
   "outputs": [
    {
     "data": {
      "text/plain": [
       "array([[0, 0, 0, 0],\n",
       "       [0, 0, 0, 0],\n",
       "       [0, 0, 0, 0]])"
      ]
     },
     "execution_count": 40,
     "metadata": {},
     "output_type": "execute_result"
    }
   ],
   "source": [
    "np.zeros((3,4), dtype = int)"
   ]
  },
  {
   "cell_type": "markdown",
   "id": "c51f99df",
   "metadata": {},
   "source": [
    "## Generate 1's Array "
   ]
  },
  {
   "cell_type": "code",
   "execution_count": 41,
   "id": "08e432a9",
   "metadata": {},
   "outputs": [
    {
     "data": {
      "text/plain": [
       "array([[1, 1, 1, 1],\n",
       "       [1, 1, 1, 1],\n",
       "       [1, 1, 1, 1]])"
      ]
     },
     "execution_count": 41,
     "metadata": {},
     "output_type": "execute_result"
    }
   ],
   "source": [
    "np.ones((3,4), dtype=int)"
   ]
  },
  {
   "cell_type": "markdown",
   "id": "d7c46c2a",
   "metadata": {},
   "source": [
    "## Dimension Equal Array "
   ]
  },
  {
   "cell_type": "code",
   "execution_count": 42,
   "id": "6c2b1f0e",
   "metadata": {},
   "outputs": [
    {
     "data": {
      "text/plain": [
       "array([[1, 0, 0],\n",
       "       [0, 1, 0],\n",
       "       [0, 0, 1]])"
      ]
     },
     "execution_count": 42,
     "metadata": {},
     "output_type": "execute_result"
    }
   ],
   "source": [
    "np.eye(3, 3, dtype = int)"
   ]
  },
  {
   "cell_type": "markdown",
   "id": "3ad08252",
   "metadata": {},
   "source": [
    "## Filter Array "
   ]
  },
  {
   "cell_type": "code",
   "execution_count": 43,
   "id": "615b0ead",
   "metadata": {},
   "outputs": [
    {
     "data": {
      "text/plain": [
       "array([[ True,  True, False,  True, False],\n",
       "       [False, False, False,  True, False]])"
      ]
     },
     "execution_count": 43,
     "metadata": {},
     "output_type": "execute_result"
    }
   ],
   "source": [
    "filter_arr = np.logical_and(integer_nummber>30, integer_nummber < 50)\n",
    "filter_arr"
   ]
  },
  {
   "cell_type": "code",
   "execution_count": 44,
   "id": "f5d149fb",
   "metadata": {},
   "outputs": [
    {
     "data": {
      "text/plain": [
       "array([41, 49, 35, 31])"
      ]
     },
     "execution_count": 44,
     "metadata": {},
     "output_type": "execute_result"
    }
   ],
   "source": [
    "integer_nummber[filter_arr]"
   ]
  },
  {
   "cell_type": "markdown",
   "id": "7fd62a95",
   "metadata": {},
   "source": [
    "## Mean, Median, Variance, Standard Deviation "
   ]
  },
  {
   "cell_type": "code",
   "execution_count": 45,
   "id": "a0fafc03",
   "metadata": {},
   "outputs": [],
   "source": [
    "calc = np.array([1, 2, 3, 7, 5])"
   ]
  },
  {
   "cell_type": "code",
   "execution_count": 46,
   "id": "5c8e416e",
   "metadata": {},
   "outputs": [
    {
     "data": {
      "text/plain": [
       "3.0"
      ]
     },
     "execution_count": 46,
     "metadata": {},
     "output_type": "execute_result"
    }
   ],
   "source": [
    "np.median(calc)"
   ]
  },
  {
   "cell_type": "code",
   "execution_count": 47,
   "id": "c50102d4",
   "metadata": {},
   "outputs": [
    {
     "data": {
      "text/plain": [
       "3.6"
      ]
     },
     "execution_count": 47,
     "metadata": {},
     "output_type": "execute_result"
    }
   ],
   "source": [
    "np.mean(calc)"
   ]
  },
  {
   "cell_type": "code",
   "execution_count": 48,
   "id": "7b7911b0",
   "metadata": {},
   "outputs": [
    {
     "data": {
      "text/plain": [
       "4.64"
      ]
     },
     "execution_count": 48,
     "metadata": {},
     "output_type": "execute_result"
    }
   ],
   "source": [
    "np.var(calc)"
   ]
  },
  {
   "cell_type": "code",
   "execution_count": 49,
   "id": "a9b40200",
   "metadata": {},
   "outputs": [
    {
     "data": {
      "text/plain": [
       "2.1540659228538015"
      ]
     },
     "execution_count": 49,
     "metadata": {},
     "output_type": "execute_result"
    }
   ],
   "source": [
    "np.std(calc)"
   ]
  },
  {
   "cell_type": "markdown",
   "id": "0b5b1894",
   "metadata": {},
   "source": [
    "## Mean, Median, Variance, Standard Deviation for nd Array"
   ]
  },
  {
   "cell_type": "code",
   "execution_count": 50,
   "id": "d302bbb5",
   "metadata": {},
   "outputs": [],
   "source": [
    "nump_array = np.array( [ [1, 2, 3], [4, 5, 6] ] )"
   ]
  },
  {
   "cell_type": "code",
   "execution_count": 51,
   "id": "29d53383",
   "metadata": {},
   "outputs": [
    {
     "data": {
      "text/plain": [
       "array([[1, 2, 3],\n",
       "       [4, 5, 6]])"
      ]
     },
     "execution_count": 51,
     "metadata": {},
     "output_type": "execute_result"
    }
   ],
   "source": [
    "nump_array"
   ]
  },
  {
   "cell_type": "code",
   "execution_count": 52,
   "id": "4677791a",
   "metadata": {},
   "outputs": [
    {
     "data": {
      "text/plain": [
       "array([2., 5.])"
      ]
     },
     "execution_count": 52,
     "metadata": {},
     "output_type": "execute_result"
    }
   ],
   "source": [
    "np.median(nump_array, axis = 1)"
   ]
  },
  {
   "cell_type": "code",
   "execution_count": 53,
   "id": "0b3f67ac",
   "metadata": {},
   "outputs": [
    {
     "data": {
      "text/plain": [
       "array([2., 5.])"
      ]
     },
     "execution_count": 53,
     "metadata": {},
     "output_type": "execute_result"
    }
   ],
   "source": [
    "np.mean(nump_array, axis = 1)"
   ]
  },
  {
   "cell_type": "code",
   "execution_count": 54,
   "id": "b9dfdc33",
   "metadata": {},
   "outputs": [
    {
     "data": {
      "text/plain": [
       "array([0.66666667, 0.66666667])"
      ]
     },
     "execution_count": 54,
     "metadata": {},
     "output_type": "execute_result"
    }
   ],
   "source": [
    "np.var(nump_array, axis = 1)"
   ]
  },
  {
   "cell_type": "code",
   "execution_count": 55,
   "id": "c4f5f875",
   "metadata": {},
   "outputs": [
    {
     "data": {
      "text/plain": [
       "array([0.81649658, 0.81649658])"
      ]
     },
     "execution_count": 55,
     "metadata": {},
     "output_type": "execute_result"
    }
   ],
   "source": [
    "np.std(nump_array, axis = 1)"
   ]
  }
 ],
 "metadata": {
  "kernelspec": {
   "display_name": "Python 3",
   "language": "python",
   "name": "python3"
  },
  "language_info": {
   "codemirror_mode": {
    "name": "ipython",
    "version": 3
   },
   "file_extension": ".py",
   "mimetype": "text/x-python",
   "name": "python",
   "nbconvert_exporter": "python",
   "pygments_lexer": "ipython3",
   "version": "3.8.5"
  }
 },
 "nbformat": 4,
 "nbformat_minor": 5
}
